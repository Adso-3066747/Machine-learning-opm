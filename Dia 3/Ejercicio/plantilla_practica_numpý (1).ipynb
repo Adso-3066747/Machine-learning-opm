{
 "cells": [
  {
   "cell_type": "markdown",
   "metadata": {
    "id": "uPHKJY6Sgiqz"
   },
   "source": [
    "# Implementación Práctica de Numpy\n",
    "\n",
    "En este apartado desarrollaremos ciertos ejercicios que demuestran la utilidad de Numpy, entre los cuales están:\n",
    "\n",
    "- Manipulación de Arreglos y Matrices\n",
    "- Pruebas de eficiencia en tiempo de ejecución\n",
    "- Algunas funciones estadísticas\n",
    "- Mascaras Booleanas\n",
    "- Indexing avanzado\n",
    "\n",
    "¡Empecemos!"
   ]
  },
  {
   "cell_type": "markdown",
   "metadata": {
    "id": "DGTUOMAfgiq0"
   },
   "source": [
    "## Operaciones Con Arreglos y matrices\n",
    "\n",
    "El algebra lineal es una rama de suma importancia en la IA, ya que es el fundamento del manejo de matrices ( ¡Y en IA todo son matrices!)\n",
    "\n",
    "Por lo que podemos empezar a probar las funcionalidades de numpy con ello, por ejemplo, supongamos que tenemos el siguiente sistema de ecuaciones:\n",
    "\n",
    "$$\n",
    "\\begin{aligned}\n",
    "2 x+3 y-z & =5 \\\\\n",
    "4 x-y+2 z & =6 \\\\\n",
    "-2 x+7 y+3 z & =8\n",
    "\\end{aligned}\n",
    "$$\n",
    "\n",
    "Luego, para hallar el vector, $v=[x, y, z]$, que soluciona dicho sistema seguiriamos los siguientes pasos...\n",
    "\n",
    "\n"
   ]
  },
  {
   "cell_type": "markdown",
   "metadata": {
    "id": "QRuMXv21giq0"
   },
   "source": [
    "Paso 1: Recordemos que este sistema podemos representarlo en forma matricial:\n",
    "\n",
    "$$\n",
    "A=\\left(\\begin{array}{ccc}\n",
    "2 & 3 & -1 \\\\\n",
    "4 & -1 & 2 \\\\\n",
    "-2 & 7 & 3\n",
    "\\end{array}\\right), \\quad b=\\left(\\begin{array}{l}\n",
    "5 \\\\\n",
    "6 \\\\\n",
    "8\n",
    "\\end{array}\\right)\n",
    "$$"
   ]
  },
  {
   "cell_type": "markdown",
   "metadata": {
    "id": "ZKH0gEHegiq0"
   },
   "source": [
    "\n",
    "\n",
    "Paso 2: Luego de esto lo pasamos a su forma aumentada $[A \\mid b]$\n",
    "\n",
    "$$\n",
    "[A \\mid b]=\\left(\\begin{array}{ccc|c}\n",
    "2 & 3 & -1 & 5 \\\\\n",
    "4 & -1 & 2 & 6 \\\\\n",
    "-2 & 7 & 3 & 8\n",
    "\\end{array}\\right)\n",
    "$$"
   ]
  },
  {
   "cell_type": "markdown",
   "metadata": {
    "id": "0Sk7ds3Kgiq0"
   },
   "source": [
    "\n",
    "Paso 3: Y que resolviendo por el método de preferencia nos debería quedar de la siguiente manera\n",
    "\n",
    "$$\n",
    "[I \\mid v]=\\left(\\begin{array}{ccc|c}\n",
    "1 & 0 & 0 & 47/36 \\\\\n",
    "0 & 1 & 0 & 10/9 \\\\\n",
    "0 & 0 & 1 & 17/18\n",
    "\\end{array}\\right)\n",
    "$$"
   ]
  },
  {
   "cell_type": "markdown",
   "metadata": {
    "id": "KnKX8zlTgiq0"
   },
   "source": [
    "Bueno pero ¿y cómo se ve todo esto numpy?"
   ]
  },
  {
   "cell_type": "code",
   "execution_count": null,
   "metadata": {
    "id": "If4wxlbogiq0"
   },
   "outputs": [
    {
     "data": {
      "text/plain": [
       "(array([[ 2,  3, -1],\n",
       "        [ 4, -1,  2],\n",
       "        [-2,  7,  3]]),\n",
       " [5, 6, 8])"
      ]
     },
     "execution_count": 2,
     "metadata": {},
     "output_type": "execute_result"
    }
   ],
   "source": []
  },
  {
   "cell_type": "code",
   "execution_count": null,
   "metadata": {
    "id": "BoFWCK2-giq0"
   },
   "outputs": [
    {
     "data": {
      "text/plain": [
       "array([1.30555556, 1.11111111, 0.94444444])"
      ]
     },
     "execution_count": 3,
     "metadata": {},
     "output_type": "execute_result"
    }
   ],
   "source": []
  },
  {
   "cell_type": "code",
   "execution_count": null,
   "metadata": {
    "id": "S1oaejYZgiq0"
   },
   "outputs": [
    {
     "data": {
      "text/plain": [
       "array([5., 6., 8.])"
      ]
     },
     "execution_count": 4,
     "metadata": {},
     "output_type": "execute_result"
    }
   ],
   "source": []
  },
  {
   "cell_type": "code",
   "execution_count": null,
   "metadata": {
    "id": "sLbnshypgiq0"
   },
   "outputs": [],
   "source": []
  },
  {
   "cell_type": "markdown",
   "metadata": {
    "id": "bEpVy1REgiq0"
   },
   "source": [
    "### Caso de uso\n",
    "¿Y de qué nos sirve saber resolver sistemas de ecuaciones en las ciencias de los datos?\n",
    "\n",
    "Suponga que tenemos una cantidad de observaciones de un fenómeno, por ejemplo, el valor de la vivienda en una ciudad,\n",
    "y que además tenemos información sobre cada vivienda (Ubicación, Nro de Habitaciones, Nro de Baños, Metros cuadrados, etc.).\n",
    "Ahora, si estudiamos los datos ¿Podríamos predecir el precio de una casa de la que no den dicha información?\n",
    "\n",
    "La respuesta es sí, este es un ejemplo sencillo de Regresión Lineal Múltiple, y se resuelve utilizando operaciones Matriciales\n",
    "como las que acabamos de ver."
   ]
  },
  {
   "cell_type": "code",
   "execution_count": null,
   "metadata": {
    "id": "oP20WGgIgiq1"
   },
   "outputs": [
    {
     "ename": "NameError",
     "evalue": "name 'x1_1' is not defined",
     "output_type": "error",
     "traceback": [
      "\u001b[1;31m---------------------------------------------------------------------------\u001b[0m",
      "\u001b[1;31mNameError\u001b[0m                                 Traceback (most recent call last)",
      "Cell \u001b[1;32mIn[5], line 1\u001b[0m\n\u001b[1;32m----> 1\u001b[0m A\u001b[38;5;241m=\u001b[39mnp\u001b[38;5;241m.\u001b[39marray([[\u001b[38;5;241m1\u001b[39m,\u001b[43mx1_1\u001b[49m,x2_1,\u001b[38;5;241m.\u001b[39m\u001b[38;5;241m.\u001b[39m\u001b[38;5;241m.\u001b[39m,xn_1],\n\u001b[0;32m      2\u001b[0m             [\u001b[38;5;241m2\u001b[39m,x1_2,x2_2,\u001b[38;5;241m.\u001b[39m\u001b[38;5;241m.\u001b[39m\u001b[38;5;241m.\u001b[39m,xn_2],\n\u001b[0;32m      3\u001b[0m             \u001b[38;5;241m.\u001b[39m\u001b[38;5;241m.\u001b[39m\u001b[38;5;241m.\u001b[39m,\n\u001b[0;32m      4\u001b[0m             [\u001b[38;5;241m3\u001b[39m,x1_m,x2_m,\u001b[38;5;241m.\u001b[39m\u001b[38;5;241m.\u001b[39m\u001b[38;5;241m.\u001b[39m,xn_m]])\n\u001b[0;32m      5\u001b[0m b\u001b[38;5;241m=\u001b[39mnp\u001b[38;5;241m.\u001b[39marray([y1,y2,\u001b[38;5;241m.\u001b[39m\u001b[38;5;241m.\u001b[39m\u001b[38;5;241m.\u001b[39m,ym])\n\u001b[0;32m      6\u001b[0m beta\u001b[38;5;241m=\u001b[39mnp\u001b[38;5;241m.\u001b[39mlinalg\u001b[38;5;241m.\u001b[39msolve(A\u001b[38;5;241m.\u001b[39mT\u001b[38;5;129m@A\u001b[39m,A\u001b[38;5;241m.\u001b[39mT\u001b[38;5;129m@b\u001b[39m)\n",
      "\u001b[1;31mNameError\u001b[0m: name 'x1_1' is not defined"
     ]
    }
   ],
   "source": [
    "\n"
   ]
  },
  {
   "cell_type": "markdown",
   "metadata": {
    "id": "xH-sD7dggiq1"
   },
   "source": [
    "### Estadísticas de matrices\n",
    "Probemos ahora las funciones estadísticas...\n",
    "Para comenzar creemos una matriz cuadrada de tamaño n, llena de numeros aleatorios del 0 al 100"
   ]
  },
  {
   "cell_type": "code",
   "execution_count": null,
   "metadata": {
    "id": "1i9P5NUmgiq1"
   },
   "outputs": [
    {
     "data": {
      "text/plain": [
       "(5000, 5000)"
      ]
     },
     "execution_count": 8,
     "metadata": {},
     "output_type": "execute_result"
    }
   ],
   "source": []
  },
  {
   "cell_type": "markdown",
   "metadata": {
    "id": "T53bq5yLgiq1"
   },
   "source": [
    "#### Recordemos algunas definciones de estadística\n",
    "La distribución uniforme continua en el intervalo $[a,b]$ tiene la siguiente función de densidad de probabilidad:\n",
    "$$\n",
    "f(x; a, b) = \\begin{cases}\n",
    "\\frac{1}{b-a} & \\text{para } a \\leq x \\leq b, \\\\\n",
    "0 & \\text{para los demás casos.}\n",
    "\\end{cases}\n",
    "$$\n",
    "La siguiente 'Media'\n",
    "$$\n",
    "E[X] = \\frac{a + b}{2}\n",
    "$$\n",
    "... y la siguiente varianza\n",
    "$$\n",
    "\\text{Var}(X) = \\frac{(b - a)^2}{12}\n",
    "$$\n"
   ]
  },
  {
   "cell_type": "markdown",
   "metadata": {
    "id": "PR4dkiH2giq1"
   },
   "source": [
    "Como resultado, para nuestra Uniforme, en el intervalo $[0,100]$ tendriamos lo siguiente\n",
    "Media\n",
    "$$\n",
    "E[X] = \\frac{0 + 100}{2} = 50\n",
    "$$\n",
    "... y la siguiente varianza\n",
    "$$\n",
    "\\text{Var}(X) = \\frac{(100 - 0)^2}{12} = 833.33\n",
    "$$"
   ]
  },
  {
   "cell_type": "code",
   "execution_count": null,
   "metadata": {
    "id": "qQ6VYIz6giq1"
   },
   "outputs": [
    {
     "name": "stdout",
     "output_type": "stream",
     "text": [
      "Media: 49.4942472\n",
      "Mediana: 49.0\n",
      "Varianza: 833.2889417852939\n"
     ]
    }
   ],
   "source": []
  },
  {
   "cell_type": "code",
   "execution_count": null,
   "metadata": {
    "id": "TsS5zqVegiq1"
   },
   "outputs": [
    {
     "name": "stdout",
     "output_type": "stream",
     "text": [
      "Tiempo de ejecucion lenguale nativo media 4.2224215999999615\n",
      "Tiempo de ejecucion lenguale nativo media 14.029779800000142\n",
      "Tiempo de ejecucion lenguale nativo media 0.019032199999855948\n",
      "Tiempo de ejecucion lenguale nativo media 0.11360239999976329\n"
     ]
    }
   ],
   "source": []
  },
  {
   "cell_type": "markdown",
   "metadata": {
    "id": "enEQOpphgiq1"
   },
   "source": [
    "### Finalmente ...\n",
    "¿Podriamos etiquetar datos por medio de numpy?\n",
    "Supongamos que queremos leer los datos de este archivo"
   ]
  },
  {
   "cell_type": "code",
   "execution_count": null,
   "metadata": {
    "id": "0qfh6J9sgiq1"
   },
   "outputs": [],
   "source": [
    "\n"
   ]
  },
  {
   "cell_type": "code",
   "execution_count": null,
   "metadata": {},
   "outputs": [
    {
     "data": {
      "text/plain": [
       "array([[  18.,   12.,  -10.,  -11.,  -18.],\n",
       "       [ -55.,   49.,  -27.,   -9.,  -57.],\n",
       "       [ -13.,   36.,   13.,  -79.,   72.],\n",
       "       [  -3.,    5.,  -26.,   15.,  -88.],\n",
       "       [  -1.,  -18., -100.,   68.,  -31.],\n",
       "       [  17.,  -15.,  -78.,   41.,   55.],\n",
       "       [  nan,   nan,   nan,   nan,   nan],\n",
       "       [  nan,   nan,   nan,   nan,   nan],\n",
       "       [  nan,   nan,   nan,   nan,   nan],\n",
       "       [  nan,   nan,   nan,   nan,   nan],\n",
       "       [  nan,   nan,   nan,   nan,   nan],\n",
       "       [  nan,   nan,   nan,   nan,   nan]])"
      ]
     },
     "execution_count": 11,
     "metadata": {},
     "output_type": "execute_result"
    }
   ],
   "source": []
  },
  {
   "cell_type": "code",
   "execution_count": null,
   "metadata": {
    "id": "7k3sqwM3giq1"
   },
   "outputs": [
    {
     "data": {
      "text/plain": [
       "array([[  18.,   12.,  -10.,  -11.,  -18.],\n",
       "       [ -55.,   49.,  -27.,   -9.,  -57.],\n",
       "       [ -13.,   36.,   13.,  -79.,   72.],\n",
       "       [  -3.,    5.,  -26.,   15.,  -88.],\n",
       "       [  -1.,  -18., -100.,   68.,  -31.],\n",
       "       [  17.,  -15.,  -78.,   41.,   55.]])"
      ]
     },
     "execution_count": 14,
     "metadata": {},
     "output_type": "execute_result"
    }
   ],
   "source": []
  },
  {
   "cell_type": "code",
   "execution_count": null,
   "metadata": {
    "id": "43bfIq9lgiq1"
   },
   "outputs": [
    {
     "data": {
      "text/plain": [
       "{'muchas perdidas': array([[False, False, False, False, False],\n",
       "        [ True, False, False, False,  True],\n",
       "        [False, False, False,  True, False],\n",
       "        [False, False, False, False,  True],\n",
       "        [False, False,  True, False, False],\n",
       "        [False, False,  True, False, False]]),\n",
       " 'perdidas': array([[False, False,  True,  True,  True],\n",
       "        [False, False,  True,  True, False],\n",
       "        [ True, False, False, False, False],\n",
       "        [ True, False,  True, False, False],\n",
       "        [False,  True, False, False,  True],\n",
       "        [False,  True, False, False, False]]),\n",
       " 'cero': array([[False, False, False, False, False],\n",
       "        [False, False, False, False, False],\n",
       "        [False, False, False, False, False],\n",
       "        [False, False, False, False, False],\n",
       "        [False, False, False, False, False],\n",
       "        [False, False, False, False, False]]),\n",
       " 'ganancias': array([[ True,  True, False, False, False],\n",
       "        [False, False, False, False, False],\n",
       "        [False, False,  True, False, False],\n",
       "        [False,  True, False,  True, False],\n",
       "        [False, False, False, False, False],\n",
       "        [ True, False, False, False, False]]),\n",
       " 'muchas ganancias': array([[False, False, False, False, False],\n",
       "        [False,  True, False, False, False],\n",
       "        [False,  True, False, False,  True],\n",
       "        [False, False, False, False, False],\n",
       "        [False, False, False,  True, False],\n",
       "        [False, False, False,  True,  True]]),\n",
       " 'demasiadas ganancias': array([[False, False, False, False, False],\n",
       "        [False, False, False, False, False],\n",
       "        [False, False, False, False, False],\n",
       "        [False, False, False, False, False],\n",
       "        [False, False, False, False, False],\n",
       "        [False, False, False, False, False]])}"
      ]
     },
     "execution_count": 15,
     "metadata": {},
     "output_type": "execute_result"
    }
   ],
   "source": []
  },
  {
   "cell_type": "code",
   "execution_count": null,
   "metadata": {
    "id": "drJ_QJs_giq1"
   },
   "outputs": [],
   "source": []
  },
  {
   "cell_type": "markdown",
   "metadata": {
    "id": "CK2t-UXOgiq1"
   },
   "source": [
    "#### Hagamos Ahora el Indexing propuesto"
   ]
  },
  {
   "cell_type": "code",
   "execution_count": null,
   "metadata": {
    "id": "pr0f01AXgiq1"
   },
   "outputs": [
    {
     "data": {
      "text/plain": [
       "array([[ 18.],\n",
       "       [-55.],\n",
       "       [-13.],\n",
       "       [ -3.],\n",
       "       [ -1.]])"
      ]
     },
     "execution_count": 16,
     "metadata": {},
     "output_type": "execute_result"
    }
   ],
   "source": []
  }
 ],
 "metadata": {
  "colab": {
   "provenance": []
  },
  "kernelspec": {
   "display_name": "cookiecutter_conda_data_science",
   "language": "python",
   "name": "python3"
  },
  "language_info": {
   "codemirror_mode": {
    "name": "ipython",
    "version": 3
   },
   "file_extension": ".py",
   "mimetype": "text/x-python",
   "name": "python",
   "nbconvert_exporter": "python",
   "pygments_lexer": "ipython3",
   "version": "3.12.2"
  }
 },
 "nbformat": 4,
 "nbformat_minor": 0
}
